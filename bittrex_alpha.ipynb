{
 "cells": [
  {
   "cell_type": "code",
   "execution_count": 7,
   "metadata": {},
   "outputs": [
    {
     "data": {
      "text/plain": [
       "['fiveMin', 'hour', 'day']"
      ]
     },
     "execution_count": 7,
     "metadata": {},
     "output_type": "execute_result"
    }
   ],
   "source": [
    "public_market_api_url = \"https://bittrex.com/api/v2.0/pub/market/\"\n",
    "public_markets_api_url = \"https://bittrex.com/api/v2.0/pub/markets/\"\n",
    "from datetime import datetime\n",
    "ts=str(int(datetime.now().strftime('%s'))*1000)\n",
    "import json\n",
    "from influxdb import InfluxDBClient\n",
    "import requests\n",
    "\n",
    "def fetch_data(market,interval):\n",
    "    final_api_str='GetTicks'\n",
    "    param_dict = {\"marketName\":market,\"tickInterval\":interval,'_':ts}\n",
    "    r=requests.get(public_market_api_url+final_api_str,params=param_dict)\n",
    "    #print r.content\n",
    "    return json.loads(r.content)\n",
    "\n",
    "def get_all_coins():\n",
    "    final_api_str='GetMarketSummaries'\n",
    "    param_dict = {'_':ts}\n",
    "    r=requests.get(public_markets_api_url+final_api_str,params=param_dict)\n",
    "    return r.content\n",
    "\n",
    "\n",
    "def publish_values_to_influx(market_name=None,symbol=None,currency=None,interval=None):\n",
    "    data=fetch_data(market_name,interval)\n",
    "    client = InfluxDBClient('52.172.212.232', 8086, '', '', 'cryptotracker')\n",
    "    total_json=[]\n",
    "    for row in data['result']:\n",
    "        default_json_body = {\n",
    "            \"measurement\": \"crypto\",\n",
    "            \"tags\": {\n",
    "                \"exchange\": \"bittrex\",\n",
    "                \"symbol\":symbol,\n",
    "                \"currency\":currency,\n",
    "                \"sample\":interval\n",
    "            },\n",
    "            \"fields\": {\n",
    "                \"low\": None,\n",
    "                \"high\":None,\n",
    "                \"open\":None,\n",
    "                \"close\":None,\n",
    "                \"volume\":None,\n",
    "                \"bv\":None\n",
    "            },\n",
    "            \"time\":None            \n",
    "        }\n",
    "        default_json_body['fields'][\"low\"]=row[\"L\"]\n",
    "        default_json_body['fields'][\"high\"]=row[\"H\"]\n",
    "        default_json_body['fields'][\"open\"]=row[\"O\"]\n",
    "        default_json_body['fields'][\"close\"]=row[\"C\"]\n",
    "        default_json_body['fields'][\"volume\"]=row[\"V\"]\n",
    "        default_json_body['fields'][\"bv\"]=row[\"BV\"]\n",
    "        default_json_body['time']=row[\"T\"]+\"Z\"\n",
    "        total_json.append(default_json_body)\n",
    "    print (\"to send data\",total_json)\n",
    "    # Returns True, if sent successfully.\n",
    "    status=client.write_points(total_json)\n",
    "    print (status)\n",
    "['fiveMin','hour','day']\n",
    "\n",
    "# \"\"\"\n",
    "# INSERT crypto,exchange=\"bitrex\",symbol=\"xrp\",currency=\"btc\",sample=\"5min\" high=0.00001616,\n",
    "# low=0.00001609,open=0.00001612,close=0.00001612,volume=125318.77478722,bv=2.01998059\n",
    "# \"\"\"\n"
   ]
  },
  {
   "cell_type": "code",
   "execution_count": 2,
   "metadata": {},
   "outputs": [],
   "source": [
    "fetch_data('BTC-XRP','fiveMin')\n",
    "data=json.loads(get_all_coins())"
   ]
  },
  {
   "cell_type": "code",
   "execution_count": null,
   "metadata": {
    "scrolled": true
   },
   "outputs": [],
   "source": [
    "print(len(data['result']))\n",
    "print(\"--------\")\n",
    "item=data['result'][0]\n",
    "item\n",
    "publish_values_to_influx(market_name=item['Market']['MarketName'],\n",
    "                         symbol=item['Market']['MarketCurrency'],\n",
    "                         currency=item['Market']['BaseCurrency'],\n",
    "                         interval='fiveMin')\n",
    "# for item in data['result']:\n",
    "#     print item['Market']['MarketCurrency'],item['Market']['BaseCurrency'],item['Market']['MarketName']"
   ]
  },
  {
   "cell_type": "code",
   "execution_count": null,
   "metadata": {},
   "outputs": [],
   "source": [
    "from telethon import TelegramClient\n",
    "\n",
    "# These example values won't work. You must get your own api_id and\n",
    "# api_hash from https://my.telegram.org, under API Development.\n",
    "api_id = 100791\n",
    "api_hash = ''\n",
    "phone = ''\n",
    "client = TelegramClient('session_name', api_id, api_hash)\n",
    "client.connect()\n",
    "\n",
    "# If you already have a previous 'session_name.session' file, skip this.\n",
    "client.sign_in(phone=phone)"
   ]
  },
  {
   "cell_type": "code",
   "execution_count": null,
   "metadata": {},
   "outputs": [],
   "source": [
    "me = client.sign_in(code=42858)"
   ]
  },
  {
   "cell_type": "code",
   "execution_count": null,
   "metadata": {},
   "outputs": [],
   "source": []
  }
 ],
 "metadata": {
  "kernelspec": {
   "display_name": "Python 2",
   "language": "python",
   "name": "python2"
  },
  "language_info": {
   "codemirror_mode": {
    "name": "ipython",
    "version": 2
   },
   "file_extension": ".py",
   "mimetype": "text/x-python",
   "name": "python",
   "nbconvert_exporter": "python",
   "pygments_lexer": "ipython2",
   "version": "2.7.13"
  }
 },
 "nbformat": 4,
 "nbformat_minor": 1
}
